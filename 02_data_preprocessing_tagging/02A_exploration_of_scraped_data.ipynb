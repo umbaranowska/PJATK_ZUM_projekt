{
 "cells": [
  {
   "cell_type": "markdown",
   "source": [
    "# initial exploration of scraped data"
   ],
   "metadata": {
    "collapsed": false
   }
  },
  {
   "cell_type": "code",
   "execution_count": 1,
   "metadata": {
    "collapsed": true
   },
   "outputs": [],
   "source": [
    "import numpy as np\n",
    "import pandas as pd\n",
    "import matplotlib.pyplot as plt\n",
    "import seaborn as sns\n",
    "\n",
    "%matplotlib inline"
   ]
  },
  {
   "cell_type": "code",
   "execution_count": 2,
   "outputs": [
    {
     "data": {
      "text/plain": "(10216, 2)"
     },
     "execution_count": 2,
     "metadata": {},
     "output_type": "execute_result"
    }
   ],
   "source": [
    "data = pd.read_csv(\"../01_data_scraping/all_scraped_data.csv\", usecols = [\"comment_id\", \"comment_text\"])\n",
    "data.shape"
   ],
   "metadata": {
    "collapsed": false
   }
  },
  {
   "cell_type": "code",
   "execution_count": 3,
   "outputs": [
    {
     "data": {
      "text/plain": "      comment_id                                       comment_text\n0  100slw5_00001  I subscribe to Task Master SuperMaxPlus and on...\n1  100slw5_00002  Why wasn’t Greg James cast for a full series? ...\n2  100slw5_00003  I've had enough. They can't keep doing this to...\n3  100slw5_00004  Sir Mo was a delight!!! Now we need an all \"hi...\n4  100slw5_00005  I...did not expect to come out of that episode...",
      "text/html": "<div>\n<style scoped>\n    .dataframe tbody tr th:only-of-type {\n        vertical-align: middle;\n    }\n\n    .dataframe tbody tr th {\n        vertical-align: top;\n    }\n\n    .dataframe thead th {\n        text-align: right;\n    }\n</style>\n<table border=\"1\" class=\"dataframe\">\n  <thead>\n    <tr style=\"text-align: right;\">\n      <th></th>\n      <th>comment_id</th>\n      <th>comment_text</th>\n    </tr>\n  </thead>\n  <tbody>\n    <tr>\n      <th>0</th>\n      <td>100slw5_00001</td>\n      <td>I subscribe to Task Master SuperMaxPlus and on...</td>\n    </tr>\n    <tr>\n      <th>1</th>\n      <td>100slw5_00002</td>\n      <td>Why wasn’t Greg James cast for a full series? ...</td>\n    </tr>\n    <tr>\n      <th>2</th>\n      <td>100slw5_00003</td>\n      <td>I've had enough. They can't keep doing this to...</td>\n    </tr>\n    <tr>\n      <th>3</th>\n      <td>100slw5_00004</td>\n      <td>Sir Mo was a delight!!! Now we need an all \"hi...</td>\n    </tr>\n    <tr>\n      <th>4</th>\n      <td>100slw5_00005</td>\n      <td>I...did not expect to come out of that episode...</td>\n    </tr>\n  </tbody>\n</table>\n</div>"
     },
     "execution_count": 3,
     "metadata": {},
     "output_type": "execute_result"
    }
   ],
   "source": [
    "data.head()"
   ],
   "metadata": {
    "collapsed": false
   }
  },
  {
   "cell_type": "code",
   "execution_count": 4,
   "outputs": [
    {
     "data": {
      "text/plain": "          comment_id comment_text\n18     100slw5_00019          NaN\n61     100slw5_00062          NaN\n84     100slw5_00085          NaN\n99     100slw5_00100          NaN\n122    100slw5_00123          NaN\n...              ...          ...\n9503    yldx2c_00007          NaN\n9677    yldx2c_00181          NaN\n9781    yy0pcj_00004          NaN\n9782    yy0pcj_00005          NaN\n10027   z9iml6_00055          NaN\n\n[322 rows x 2 columns]",
      "text/html": "<div>\n<style scoped>\n    .dataframe tbody tr th:only-of-type {\n        vertical-align: middle;\n    }\n\n    .dataframe tbody tr th {\n        vertical-align: top;\n    }\n\n    .dataframe thead th {\n        text-align: right;\n    }\n</style>\n<table border=\"1\" class=\"dataframe\">\n  <thead>\n    <tr style=\"text-align: right;\">\n      <th></th>\n      <th>comment_id</th>\n      <th>comment_text</th>\n    </tr>\n  </thead>\n  <tbody>\n    <tr>\n      <th>18</th>\n      <td>100slw5_00019</td>\n      <td>NaN</td>\n    </tr>\n    <tr>\n      <th>61</th>\n      <td>100slw5_00062</td>\n      <td>NaN</td>\n    </tr>\n    <tr>\n      <th>84</th>\n      <td>100slw5_00085</td>\n      <td>NaN</td>\n    </tr>\n    <tr>\n      <th>99</th>\n      <td>100slw5_00100</td>\n      <td>NaN</td>\n    </tr>\n    <tr>\n      <th>122</th>\n      <td>100slw5_00123</td>\n      <td>NaN</td>\n    </tr>\n    <tr>\n      <th>...</th>\n      <td>...</td>\n      <td>...</td>\n    </tr>\n    <tr>\n      <th>9503</th>\n      <td>yldx2c_00007</td>\n      <td>NaN</td>\n    </tr>\n    <tr>\n      <th>9677</th>\n      <td>yldx2c_00181</td>\n      <td>NaN</td>\n    </tr>\n    <tr>\n      <th>9781</th>\n      <td>yy0pcj_00004</td>\n      <td>NaN</td>\n    </tr>\n    <tr>\n      <th>9782</th>\n      <td>yy0pcj_00005</td>\n      <td>NaN</td>\n    </tr>\n    <tr>\n      <th>10027</th>\n      <td>z9iml6_00055</td>\n      <td>NaN</td>\n    </tr>\n  </tbody>\n</table>\n<p>322 rows × 2 columns</p>\n</div>"
     },
     "execution_count": 4,
     "metadata": {},
     "output_type": "execute_result"
    }
   ],
   "source": [
    "data[data[\"comment_text\"].isna()] # missing data for 322 comments\n",
    "# sometimes comments get deleted leaving an empty text field in the reddit thread\n",
    "# this seems to be the case here"
   ],
   "metadata": {
    "collapsed": false
   }
  },
  {
   "cell_type": "code",
   "execution_count": 5,
   "outputs": [
    {
     "data": {
      "text/plain": "(9894, 2)"
     },
     "execution_count": 5,
     "metadata": {},
     "output_type": "execute_result"
    }
   ],
   "source": [
    "data = data[data[\"comment_text\"].isna() == False] # remove empty comments\n",
    "data.shape"
   ],
   "metadata": {
    "collapsed": false
   }
  },
  {
   "cell_type": "code",
   "execution_count": 6,
   "outputs": [
    {
     "data": {
      "text/plain": "97"
     },
     "execution_count": 6,
     "metadata": {},
     "output_type": "execute_result"
    }
   ],
   "source": [
    "data[\"thread_id\"] = [x.split(\"_\")[0] for x in data[\"comment_id\"]]\n",
    "data[\"thread_id\"].nunique()\n",
    "# managed to scrape comments from 97 threads"
   ],
   "metadata": {
    "collapsed": false
   }
  },
  {
   "cell_type": "code",
   "execution_count": 7,
   "outputs": [
    {
     "data": {
      "text/plain": "<Axes: xlabel='thread_id', ylabel='comment_id'>"
     },
     "execution_count": 7,
     "metadata": {},
     "output_type": "execute_result"
    },
    {
     "data": {
      "text/plain": "<Figure size 640x480 with 1 Axes>",
      "image/png": "[encoded data removed]"
     },
     "metadata": {},
     "output_type": "display_data"
    }
   ],
   "source": [
    "counts_per_thread = data.groupby([\"thread_id\"]).count().reset_index().sort_values(by = \"comment_id\")\n",
    "sns.barplot(x = counts_per_thread[\"thread_id\"], y = counts_per_thread[\"comment_id\"])\n",
    "# uneven number of comments per thread from 1 to about 500\n",
    "# this could be partially due to some threads just having fewer comments in general\n",
    "# and partially from errors during scraping\n",
    "# overall this is not a major issue as it gives us some insight into discussion about different episodes\n",
    "# however it is important to shuffle data before splitting into train and test sets"
   ],
   "metadata": {
    "collapsed": false
   }
  },
  {
   "cell_type": "code",
   "execution_count": 8,
   "outputs": [
    {
     "name": "stdout",
     "output_type": "stream",
     "text": [
      "102.0\n"
     ]
    }
   ],
   "source": [
    "print(np.mean(counts_per_thread[\"comment_id\"]))"
   ],
   "metadata": {
    "collapsed": false
   }
  },
  {
   "cell_type": "code",
   "execution_count": 9,
   "outputs": [
    {
     "name": "stdout",
     "output_type": "stream",
     "text": [
      "Mean length:  118.59753385890438\n",
      "Min length:  2\n",
      "Max length:  3419\n"
     ]
    }
   ],
   "source": [
    "comment_lengths = [len(x) for x in data[\"comment_text\"]]\n",
    "print(\"Mean length: \", np.mean(comment_lengths))\n",
    "print(\"Min length: \", np.min(comment_lengths))\n",
    "print(\"Max length: \", np.max(comment_lengths))"
   ],
   "metadata": {
    "collapsed": false
   }
  },
  {
   "cell_type": "code",
   "execution_count": 10,
   "outputs": [],
   "source": [
    "# comment length generally varies with some users writing entire paragraphs\n",
    "# and some users just writing \"OK\" or using and emoji\n",
    "# this is also before preprocessing so all special characters and stopwords are still included"
   ],
   "metadata": {
    "collapsed": false
   }
  },
  {
   "cell_type": "markdown",
   "source": [
    "TODO:\n",
    "- filter out comments by comment_text isna == False\n",
    "- try to decode thread ids (which episodes have more comments)\n",
    "- tag data\n",
    "- continue processing and train models"
   ],
   "metadata": {
    "collapsed": false
   }
  }
 ],
 "metadata": {
  "kernelspec": {
   "display_name": "Python 3",
   "language": "python",
   "name": "python3"
  },
  "language_info": {
   "codemirror_mode": {
    "name": "ipython",
    "version": 2
   },
   "file_extension": ".py",
   "mimetype": "text/x-python",
   "name": "python",
   "nbconvert_exporter": "python",
   "pygments_lexer": "ipython2",
   "version": "2.7.6"
  }
 },
 "nbformat": 4,
 "nbformat_minor": 0
}
